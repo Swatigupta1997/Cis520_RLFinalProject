{
  "nbformat": 4,
  "nbformat_minor": 0,
  "metadata": {
    "kernelspec": {
      "display_name": "Python 3",
      "language": "python",
      "name": "python3"
    },
    "language_info": {
      "codemirror_mode": {
        "name": "ipython",
        "version": 3
      },
      "file_extension": ".py",
      "mimetype": "text/x-python",
      "name": "python",
      "nbconvert_exporter": "python",
      "pygments_lexer": "ipython3",
      "version": "3.7.4"
    },
    "pycharm": {
      "stem_cell": {
        "cell_type": "raw",
        "metadata": {
          "collapsed": false
        },
        "source": []
      }
    },
    "colab": {
      "name": "RandomActionsBaseline.ipynb",
      "provenance": [],
      "collapsed_sections": []
    }
  },
  "cells": [
    {
      "cell_type": "code",
      "metadata": {
        "pycharm": {
          "is_executing": false
        },
        "id": "xjJ-a_PTz1iR"
      },
      "source": [
        "import gym\n",
        "import torch\n",
        "import torch.nn as nn\n",
        "import torch.optim as optim\n",
        "import torch.nn.functional as F\n",
        "import torch.distributions as distributions\n",
        "\n",
        "import matplotlib.pyplot as plt\n",
        "import numpy as np\n",
        "import gym\n",
        "from tqdm import tqdm\n",
        "import random"
      ],
      "execution_count": null,
      "outputs": []
    },
    {
      "cell_type": "code",
      "metadata": {
        "id": "sJ7wOtoDUDUW"
      },
      "source": [
        "train_env = gym.make('Humanoid-v2')\n",
        "test_env = gym.make('Humanoid-v2')\n",
        "\n",
        "SEED = 333\n",
        "\n",
        "train_env.seed(SEED);\n",
        "test_env.seed(SEED+1);\n",
        "np.random.seed(SEED);\n",
        "random.seed(SEED)\n",
        "torch.manual_seed(SEED);"
      ],
      "execution_count": null,
      "outputs": []
    },
    {
      "cell_type": "code",
      "metadata": {
        "id": "CUFUpygOT92f"
      },
      "source": [
        "n_runs = 1\n",
        "n_episodes = 1000\n",
        "test_rewards = np.zeros((n_runs, n_episodes))\n",
        "\n",
        "for run in range(n_runs):\n",
        "    for episode in tqdm(range(n_episodes), desc=f'Run: {run}'):\n",
        "        done = False\n",
        "        episode_reward = 0\n",
        "        test_env.reset()\n",
        "        while not done:\n",
        "            action = test_env.action_space.sample() # your agent here (this takes random actions)\n",
        "            observation, reward, done, info = test_env.step(action)\n",
        "            episode_reward+=reward\n",
        "        test_rewards[run][episode] = episode_reward\n",
        "      \n",
        "    plt.figure()\n",
        "    plt.plot(test_rewards[run])\n",
        "    plt.figtext(0.5, 0.01, \"test rewards\", wrap=True, horizontalalignment='center', fontsize=12)\n",
        "    plt.show()"
      ],
      "execution_count": null,
      "outputs": []
    }
  ]
}