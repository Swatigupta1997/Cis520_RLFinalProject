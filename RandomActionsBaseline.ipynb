{
 "cells": [
  {
   "cell_type": "code",
   "execution_count": 1,
   "metadata": {
    "id": "xjJ-a_PTz1iR",
    "pycharm": {
     "is_executing": false
    }
   },
   "outputs": [],
   "source": [
    "import gym\n",
    "import torch\n",
    "import torch.nn as nn\n",
    "import torch.optim as optim\n",
    "import torch.nn.functional as F\n",
    "import torch.distributions as distributions\n",
    "\n",
    "import matplotlib.pyplot as plt\n",
    "import numpy as np\n",
    "import gym\n",
    "from tqdm import tqdm\n",
    "import random"
   ]
  },
  {
   "cell_type": "code",
   "execution_count": 2,
   "metadata": {
    "id": "sJ7wOtoDUDUW"
   },
   "outputs": [],
   "source": [
    "train_env = gym.make('Humanoid-v2')\n",
    "test_env = gym.make('Humanoid-v2')\n",
    "\n",
    "SEED = 333\n",
    "\n",
    "train_env.seed(SEED);\n",
    "test_env.seed(SEED+1);\n",
    "np.random.seed(SEED);\n",
    "random.seed(SEED)\n",
    "torch.manual_seed(SEED);"
   ]
  },
  {
   "cell_type": "code",
   "execution_count": 3,
   "metadata": {
    "id": "CUFUpygOT92f"
   },
   "outputs": [
    {
     "name": "stderr",
     "output_type": "stream",
     "text": [
      "\r",
      "Run: 0:   0%|                                         | 0/10000 [00:00<?, ?it/s]"
     ]
    },
    {
     "name": "stdout",
     "output_type": "stream",
     "text": [
      "Creating window glfw\n"
     ]
    },
    {
     "name": "stderr",
     "output_type": "stream",
     "text": [
      "Run: 0: 100%|█████████████████████████████| 10000/10000 [18:27<00:00,  9.03it/s]\n"
     ]
    },
    {
     "data": {
      "image/png": "[encoded data removed]",
      "text/plain": [
       "<Figure size 432x288 with 1 Axes>"
      ]
     },
     "metadata": {
      "needs_background": "light"
     },
     "output_type": "display_data"
    }
   ],
   "source": [
    "n_runs = 1\n",
    "n_episodes = 10000\n",
    "test_rewards = np.zeros((n_runs, n_episodes))\n",
    "dataset_generated = np.zeros((n_episodes, 393))\n",
    "\n",
    "\n",
    "for run in range(n_runs):\n",
    "    for episode in tqdm(range(n_episodes), desc=f'Run: {run}'):\n",
    "        done = False\n",
    "        episode_reward = 0\n",
    "        test_env.reset()\n",
    "        while not done:\n",
    "            action = test_env.action_space.sample() # your agent here (this takes random actions)\n",
    "            observation, reward, done, info = test_env.step(action)\n",
    "            if reward>0:\n",
    "                dataset_generated[episode][:376]=observation\n",
    "                dataset_generated[episode][376:]=action\n",
    "            test_env.render()\n",
    "            episode_reward+=reward\n",
    "        test_rewards[run][episode] = episode_reward\n",
    "      \n",
    "    plt.figure()\n",
    "    plt.plot(test_rewards[run])\n",
    "    plt.figtext(0.5, 0.01, \"test rewards\", wrap=True, horizontalalignment='center', fontsize=12)\n",
    "    plt.show()\n",
    "    np.savetxt('data_state_action_RL.csv', dataset_generated, delimiter=',')\n",
    "\n",
    "test_env.close()"
   ]
  },
  {
   "cell_type": "code",
   "execution_count": null,
   "metadata": {},
   "outputs": [],
   "source": []
  }
 ],
 "metadata": {
  "colab": {
   "collapsed_sections": [],
   "name": "RandomActionsBaseline.ipynb",
   "provenance": []
  },
  "kernelspec": {
   "display_name": "Python 3 (ipykernel)",
   "language": "python",
   "name": "python3"
  },
  "language_info": {
   "codemirror_mode": {
    "name": "ipython",
    "version": 3
   },
   "file_extension": ".py",
   "mimetype": "text/x-python",
   "name": "python",
   "nbconvert_exporter": "python",
   "pygments_lexer": "ipython3",
   "version": "3.9.7"
  },
  "pycharm": {
   "stem_cell": {
    "cell_type": "raw",
    "metadata": {
     "collapsed": false
    },
    "source": []
   }
  }
 },
 "nbformat": 4,
 "nbformat_minor": 1
}
